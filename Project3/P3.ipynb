{
 "cells": [
  {
   "cell_type": "code",
   "execution_count": 140,
   "id": "f1a68191",
   "metadata": {},
   "outputs": [],
   "source": [
    "def vars(a, axis=None):\n",
    "    \"\"\" Variance of sparse matrix a\n",
    "    var = mean(a**2) - mean(a)**2\n",
    "    \"\"\"\n",
    "    a_squared = a.copy()\n",
    "    a_squared.data **= 2\n",
    "    return a_squared.mean(axis) - np.square(a.mean(axis))"
   ]
  },
  {
   "cell_type": "code",
   "execution_count": 1,
   "id": "442de242",
   "metadata": {},
   "outputs": [],
   "source": [
    "import pandas as pd \n",
    "import numpy as np \n",
    "from sklearn.feature_extraction.text import CountVectorizer"
   ]
  },
  {
   "cell_type": "code",
   "execution_count": 2,
   "id": "79252094",
   "metadata": {},
   "outputs": [],
   "source": [
    "import re "
   ]
  },
  {
   "cell_type": "code",
   "execution_count": 3,
   "id": "fda3043c",
   "metadata": {},
   "outputs": [],
   "source": [
    "dirc = r'D:\\studying\\UIUC courses\\STAT542\\project\\Project3\\{}'"
   ]
  },
  {
   "cell_type": "code",
   "execution_count": 4,
   "id": "0d4c4024",
   "metadata": {},
   "outputs": [],
   "source": [
    "file = dirc.format('alldata.tsv')"
   ]
  },
  {
   "cell_type": "code",
   "execution_count": 6,
   "id": "4570cc2e",
   "metadata": {},
   "outputs": [],
   "source": [
    "sentiment = []\n",
    "review = []\n",
    "cleaner = re.compile('<.*?>') "
   ]
  },
  {
   "cell_type": "code",
   "execution_count": 7,
   "id": "63e2c14f",
   "metadata": {
    "code_folding": []
   },
   "outputs": [],
   "source": [
    "with open(file, encoding='UTF-8') as f:\n",
    "    lines = f.readlines()\n",
    "    for i in range(1, len(lines)):\n",
    "        uid, senti, sc, rev = lines[i].split('\\t')\n",
    "        sentiment.append(int(senti))\n",
    "        rev = re.sub(cleaner, '', rev)\n",
    "        rev = rev.strip().strip('\"')\n",
    "        review.append(re.sub(cleaner, '', rev))"
   ]
  },
  {
   "cell_type": "code",
   "execution_count": 8,
   "id": "4f0f189a",
   "metadata": {},
   "outputs": [],
   "source": [
    "alldata = pd.DataFrame({'sentiment': sentiment, 'review': review})"
   ]
  },
  {
   "cell_type": "code",
   "execution_count": 9,
   "id": "283ceb70",
   "metadata": {},
   "outputs": [],
   "source": [
    "del sentiment, review"
   ]
  },
  {
   "cell_type": "code",
   "execution_count": 80,
   "id": "6dc730a1",
   "metadata": {},
   "outputs": [
    {
     "data": {
      "text/html": [
       "<div>\n",
       "<style scoped>\n",
       "    .dataframe tbody tr th:only-of-type {\n",
       "        vertical-align: middle;\n",
       "    }\n",
       "\n",
       "    .dataframe tbody tr th {\n",
       "        vertical-align: top;\n",
       "    }\n",
       "\n",
       "    .dataframe thead th {\n",
       "        text-align: right;\n",
       "    }\n",
       "</style>\n",
       "<table border=\"1\" class=\"dataframe\">\n",
       "  <thead>\n",
       "    <tr style=\"text-align: right;\">\n",
       "      <th></th>\n",
       "      <th>sentiment</th>\n",
       "      <th>review</th>\n",
       "      <th>indi</th>\n",
       "    </tr>\n",
       "  </thead>\n",
       "  <tbody>\n",
       "    <tr>\n",
       "      <th>0</th>\n",
       "      <td>1</td>\n",
       "      <td>Naturally in a film who's main themes are of m...</td>\n",
       "      <td>True</td>\n",
       "    </tr>\n",
       "    <tr>\n",
       "      <th>1</th>\n",
       "      <td>0</td>\n",
       "      <td>This movie is a disaster within a disaster fil...</td>\n",
       "      <td>False</td>\n",
       "    </tr>\n",
       "    <tr>\n",
       "      <th>2</th>\n",
       "      <td>0</td>\n",
       "      <td>All in all, this is a movie for kids. We saw i...</td>\n",
       "      <td>False</td>\n",
       "    </tr>\n",
       "    <tr>\n",
       "      <th>3</th>\n",
       "      <td>0</td>\n",
       "      <td>Afraid of the Dark left me with the impression...</td>\n",
       "      <td>False</td>\n",
       "    </tr>\n",
       "    <tr>\n",
       "      <th>4</th>\n",
       "      <td>1</td>\n",
       "      <td>A very accurate depiction of small time mob li...</td>\n",
       "      <td>True</td>\n",
       "    </tr>\n",
       "    <tr>\n",
       "      <th>...</th>\n",
       "      <td>...</td>\n",
       "      <td>...</td>\n",
       "      <td>...</td>\n",
       "    </tr>\n",
       "    <tr>\n",
       "      <th>49995</th>\n",
       "      <td>0</td>\n",
       "      <td>It seems like more consideration has gone into...</td>\n",
       "      <td>False</td>\n",
       "    </tr>\n",
       "    <tr>\n",
       "      <th>49996</th>\n",
       "      <td>0</td>\n",
       "      <td>I don't believe they made this film. Completel...</td>\n",
       "      <td>False</td>\n",
       "    </tr>\n",
       "    <tr>\n",
       "      <th>49997</th>\n",
       "      <td>0</td>\n",
       "      <td>Guy is a loser. Can't get girls, needs to buil...</td>\n",
       "      <td>False</td>\n",
       "    </tr>\n",
       "    <tr>\n",
       "      <th>49998</th>\n",
       "      <td>0</td>\n",
       "      <td>This 30 minute documentary Buñuel made in the ...</td>\n",
       "      <td>False</td>\n",
       "    </tr>\n",
       "    <tr>\n",
       "      <th>49999</th>\n",
       "      <td>1</td>\n",
       "      <td>I saw this movie as a child and it broke my he...</td>\n",
       "      <td>True</td>\n",
       "    </tr>\n",
       "  </tbody>\n",
       "</table>\n",
       "<p>50000 rows × 3 columns</p>\n",
       "</div>"
      ],
      "text/plain": [
       "       sentiment                                             review   indi\n",
       "0              1  Naturally in a film who's main themes are of m...   True\n",
       "1              0  This movie is a disaster within a disaster fil...  False\n",
       "2              0  All in all, this is a movie for kids. We saw i...  False\n",
       "3              0  Afraid of the Dark left me with the impression...  False\n",
       "4              1  A very accurate depiction of small time mob li...   True\n",
       "...          ...                                                ...    ...\n",
       "49995          0  It seems like more consideration has gone into...  False\n",
       "49996          0  I don't believe they made this film. Completel...  False\n",
       "49997          0  Guy is a loser. Can't get girls, needs to buil...  False\n",
       "49998          0  This 30 minute documentary Buñuel made in the ...  False\n",
       "49999          1  I saw this movie as a child and it broke my he...   True\n",
       "\n",
       "[50000 rows x 3 columns]"
      ]
     },
     "execution_count": 80,
     "metadata": {},
     "output_type": "execute_result"
    }
   ],
   "source": [
    "alldata "
   ]
  },
  {
   "cell_type": "code",
   "execution_count": null,
   "id": "bdfe05f6",
   "metadata": {},
   "outputs": [],
   "source": [
    "alldata['review'].values[0]"
   ]
  },
  {
   "cell_type": "code",
   "execution_count": 77,
   "id": "6d424309",
   "metadata": {},
   "outputs": [],
   "source": [
    "Y = alldata['sentiment']"
   ]
  },
  {
   "cell_type": "code",
   "execution_count": 43,
   "id": "e11e14fa",
   "metadata": {},
   "outputs": [],
   "source": [
    "stop_words = [\"i\", \"me\", \"my\", \"myself\", \n",
    "               \"we\", \"our\", \"ours\", \"ourselves\", \n",
    "               \"you\", \"your\", \"yours\", \n",
    "               \"their\", \"they\", \"his\", \"her\", \n",
    "               \"she\", \"he\", \"a\", \"an\", \"and\",\n",
    "               \"is\", \"was\", \"are\", \"were\", \n",
    "               \"him\", \"himself\", \"has\", \"have\", \n",
    "               \"it\", \"its\", \"the\", \"us\"]"
   ]
  },
  {
   "cell_type": "code",
   "execution_count": 56,
   "id": "02958f3e",
   "metadata": {},
   "outputs": [],
   "source": [
    "vectorizer = CountVectorizer(stop_words=stop_words, ngram_range=(1, 4), min_df=0.001, max_df=0.5)\n",
    "\n",
    "corpus = alldata['review'].values\n",
    "\n",
    "X = vectorizer.fit_transform(corpus)"
   ]
  },
  {
   "cell_type": "code",
   "execution_count": 150,
   "id": "6c012ef5",
   "metadata": {},
   "outputs": [
    {
     "data": {
      "text/plain": [
       "(50000, 31358)"
      ]
     },
     "execution_count": 150,
     "metadata": {},
     "output_type": "execute_result"
    }
   ],
   "source": [
    "X.shape"
   ]
  },
  {
   "cell_type": "code",
   "execution_count": 151,
   "id": "6941b7c9",
   "metadata": {},
   "outputs": [],
   "source": [
    "size = X.shape[1]\n",
    "\n",
    "summ = np.zeros((size, 4))\n",
    "\n",
    "# mean_1\n",
    "summ[:,0] = np.array(X[alldata['indi']].mean(axis=0)).reshape(-1)\n",
    "# var_1 \n",
    "summ[:,1] = np.array(vars(X[alldata['indi']], axis=0)).reshape(-1)\n",
    "\n",
    "# mean_2\n",
    "summ[:,2] = np.array(X[~alldata['indi']].mean(axis=0)).reshape(-1)\n",
    "# var_2\n",
    "summ[:,3] = np.array(vars(X[~alldata['indi']], axis=0)).reshape(-1)"
   ]
  },
  {
   "cell_type": "code",
   "execution_count": 157,
   "id": "38a310f2",
   "metadata": {},
   "outputs": [
    {
     "data": {
      "text/plain": [
       "array([[0.00412   , 0.00690303, 0.0042    , 0.00482236],\n",
       "       [0.01092   , 0.01984075, 0.01384   , 0.02348845],\n",
       "       [0.001     , 0.001559  , 0.002     , 0.002716  ],\n",
       "       ...,\n",
       "       [0.00696   , 0.01515156, 0.02596   , 0.09200608],\n",
       "       [0.0058    , 0.00744636, 0.0054    , 0.00657084],\n",
       "       [0.00084   , 0.00115929, 0.00204   , 0.00299584]])"
      ]
     },
     "execution_count": 157,
     "metadata": {},
     "output_type": "execute_result"
    }
   ],
   "source": [
    "summ "
   ]
  },
  {
   "cell_type": "code",
   "execution_count": 160,
   "id": "19cca405",
   "metadata": {},
   "outputs": [],
   "source": [
    "n1 = sum(alldata['sentiment'])\n",
    "n2 = len(alldata) - n1"
   ]
  },
  {
   "cell_type": "code",
   "execution_count": 163,
   "id": "96d089ee",
   "metadata": {},
   "outputs": [],
   "source": [
    "tstat = (summ[:,0] - summ[:,2]) / np.sqrt(summ[:,1] / n1 + summ[:,3] / n2)"
   ]
  },
  {
   "cell_type": "code",
   "execution_count": 164,
   "id": "a8f85573",
   "metadata": {},
   "outputs": [
    {
     "data": {
      "text/plain": [
       "array([-0.11681441, -2.21800479, -2.41825417, ..., -9.17723899,\n",
       "        0.53419444, -2.94346446])"
      ]
     },
     "execution_count": 164,
     "metadata": {},
     "output_type": "execute_result"
    }
   ],
   "source": [
    "tstat"
   ]
  },
  {
   "cell_type": "code",
   "execution_count": 169,
   "id": "9e4eeb87",
   "metadata": {},
   "outputs": [],
   "source": [
    "idx = np.argsort(-np.abs(tstat))[:2000]"
   ]
  },
  {
   "cell_type": "code",
   "execution_count": 180,
   "id": "d3d5798c",
   "metadata": {},
   "outputs": [
    {
     "data": {
      "text/plain": [
       "array([False, False,  True, ...,  True,  True,  True])"
      ]
     },
     "execution_count": 180,
     "metadata": {},
     "output_type": "execute_result"
    }
   ],
   "source": [
    "tstat[idx] >=0"
   ]
  },
  {
   "cell_type": "code",
   "execution_count": 184,
   "id": "ece5a8a5",
   "metadata": {},
   "outputs": [],
   "source": [
    "pos_idx = idx[tstat[idx] >= 0]\n",
    "neg_idx = idx[tstat[idx] < 0]"
   ]
  },
  {
   "cell_type": "code",
   "execution_count": 176,
   "id": "c33f49a7",
   "metadata": {},
   "outputs": [],
   "source": [
    "words = np.array(vectorizer.get_feature_names(), dtype='str')"
   ]
  },
  {
   "cell_type": "code",
   "execution_count": 189,
   "id": "0c04cdab",
   "metadata": {},
   "outputs": [],
   "source": [
    "pos_words = words[pos_idx]\n",
    "neg_words = words[neg_idx]"
   ]
  },
  {
   "cell_type": "code",
   "execution_count": 190,
   "id": "1df629d9",
   "metadata": {},
   "outputs": [
    {
     "data": {
      "text/plain": [
       "733"
      ]
     },
     "execution_count": 190,
     "metadata": {},
     "output_type": "execute_result"
    }
   ],
   "source": [
    "len(pos_words)"
   ]
  },
  {
   "cell_type": "code",
   "execution_count": 191,
   "id": "b131a317",
   "metadata": {},
   "outputs": [
    {
     "data": {
      "text/plain": [
       "1267"
      ]
     },
     "execution_count": 191,
     "metadata": {},
     "output_type": "execute_result"
    }
   ],
   "source": [
    "len(neg_words)"
   ]
  },
  {
   "cell_type": "code",
   "execution_count": 196,
   "id": "ebb0bc55",
   "metadata": {},
   "outputs": [
    {
     "data": {
      "text/plain": [
       "'D:\\\\studying\\\\UIUC courses\\\\STAT542\\\\project\\\\Project3\\\\{}'"
      ]
     },
     "execution_count": 196,
     "metadata": {},
     "output_type": "execute_result"
    }
   ],
   "source": [
    "dirc"
   ]
  },
  {
   "cell_type": "code",
   "execution_count": 224,
   "id": "23efd77a",
   "metadata": {},
   "outputs": [],
   "source": [
    "with open(dirc.format('words.txt'), mode='w', encoding='UTF-8') as f:\n",
    "    for w in pos_words:\n",
    "        f.write(w + '\\n')\n",
    "    for w in neg_words:\n",
    "        f.write(w + '\\n')  "
   ]
  },
  {
   "cell_type": "code",
   "execution_count": null,
   "id": "573ab755",
   "metadata": {},
   "outputs": [],
   "source": []
  },
  {
   "cell_type": "code",
   "execution_count": 225,
   "id": "98cf2b78",
   "metadata": {},
   "outputs": [],
   "source": [
    "corpus = None\n",
    "with open(dirc.format('words.txt'), encoding='UTF-8') as f:\n",
    "    corpus = f.readlines() "
   ]
  },
  {
   "cell_type": "code",
   "execution_count": 226,
   "id": "e2b60b47",
   "metadata": {},
   "outputs": [],
   "source": [
    "corpus = [w.strip() for w in corpus]"
   ]
  },
  {
   "cell_type": "code",
   "execution_count": 241,
   "id": "af5e254d",
   "metadata": {},
   "outputs": [],
   "source": [
    "voca = dict()"
   ]
  },
  {
   "cell_type": "code",
   "execution_count": 243,
   "id": "b1fe6295",
   "metadata": {},
   "outputs": [],
   "source": [
    "for idx, term in enumerate(corpus):\n",
    "    voca[term] = idx"
   ]
  },
  {
   "cell_type": "code",
   "execution_count": 245,
   "id": "7f0b7453",
   "metadata": {},
   "outputs": [],
   "source": [
    "vectorizer = CountVectorizer(vocabulary=voca)"
   ]
  },
  {
   "cell_type": "code",
   "execution_count": 246,
   "id": "00faba2d",
   "metadata": {},
   "outputs": [
    {
     "data": {
      "text/plain": [
       "2000"
      ]
     },
     "execution_count": 246,
     "metadata": {},
     "output_type": "execute_result"
    }
   ],
   "source": [
    "len(vectorizer.get_feature_names())"
   ]
  },
  {
   "cell_type": "code",
   "execution_count": null,
   "id": "2b9c882d",
   "metadata": {},
   "outputs": [],
   "source": [
    "vectorizer.get_feature_names()"
   ]
  },
  {
   "cell_type": "code",
   "execution_count": null,
   "id": "9db92aec",
   "metadata": {},
   "outputs": [],
   "source": [
    "vectorizer.vocabulary_"
   ]
  },
  {
   "cell_type": "code",
   "execution_count": 255,
   "id": "0e583902",
   "metadata": {},
   "outputs": [],
   "source": [
    "X = vectorizer.transform(alldata['review'].values).toarray()"
   ]
  },
  {
   "cell_type": "code",
   "execution_count": 261,
   "id": "7f7fe41c",
   "metadata": {},
   "outputs": [
    {
     "data": {
      "text/plain": [
       "array([0.011, 0.02 , 0.016, ..., 0.016, 0.015, 0.018])"
      ]
     },
     "execution_count": 261,
     "metadata": {},
     "output_type": "execute_result"
    }
   ],
   "source": [
    "X.mean(axis=1)"
   ]
  },
  {
   "cell_type": "code",
   "execution_count": null,
   "id": "937b9457",
   "metadata": {},
   "outputs": [],
   "source": []
  }
 ],
 "metadata": {
  "kernelspec": {
   "display_name": "Python 3 (ipykernel)",
   "language": "python",
   "name": "python3"
  },
  "language_info": {
   "codemirror_mode": {
    "name": "ipython",
    "version": 3
   },
   "file_extension": ".py",
   "mimetype": "text/x-python",
   "name": "python",
   "nbconvert_exporter": "python",
   "pygments_lexer": "ipython3",
   "version": "3.8.11"
  },
  "toc": {
   "base_numbering": 1,
   "nav_menu": {},
   "number_sections": true,
   "sideBar": true,
   "skip_h1_title": false,
   "title_cell": "Table of Contents",
   "title_sidebar": "Contents",
   "toc_cell": false,
   "toc_position": {},
   "toc_section_display": true,
   "toc_window_display": false
  }
 },
 "nbformat": 4,
 "nbformat_minor": 5
}
